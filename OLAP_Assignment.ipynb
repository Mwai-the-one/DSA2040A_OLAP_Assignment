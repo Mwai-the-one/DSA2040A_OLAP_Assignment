{
 "cells": [
  {
   "cell_type": "code",
   "execution_count": 45,
   "id": "bc5c8eb5",
   "metadata": {},
   "outputs": [],
   "source": [
    "#OLAP Thursday work\n",
    "import pandas as pd\n",
    "import numpy as np \n",
    "import matplotlib.pyplot as plt\n",
    "import sqlite3\n",
    "import seaborn as sns"
   ]
  },
  {
   "cell_type": "code",
   "execution_count": 46,
   "id": "76a63b14",
   "metadata": {},
   "outputs": [],
   "source": [
    "#step 1: connect to db\n",
    "def create_connection(db_file=\"kcc.db\"):\n",
    "    conn= sqlite3.connect(db_file)\n",
    "    return conn"
   ]
  },
  {
   "cell_type": "code",
   "execution_count": 47,
   "id": "d5cde1b1",
   "metadata": {},
   "outputs": [],
   "source": [
    "#step 2: put data in db\n",
    "customers = pd.DataFrame({\n",
    "    'customer_id': [1, 2, 3,4,5],\n",
    "    'customer_name': ['Alice', 'Bob', 'Charlie','David','Eva'],\n",
    "    'phone_no' : [888888888, 877777777, 866666666,855555555,844444444],\n",
    "    'city' : ['New York', 'Los Angeles', 'Chicago','Houston','Phoenix'],\n",
    "    'state' : ['NY', 'CA', 'IL','TX','AZ'],\n",
    "})\n",
    "orders = pd.DataFrame({\n",
    "    'order_id': [101, 102, 103,104,105,106,107,108,109,110,111,112,113,114,115],\n",
    "    'customer_id': [1, 5, 3, 2, 4, 5, 2, 4, 1, 3, 5, 4, 1, 5, 2],\n",
    "    'order_date': pd.to_datetime(['2023-05-15', '2023-02-17', '2023-03-20','2023-04-15', '2023-01-17', '2023-02-20','2023-03-15', '2023-03-17', '2023-04-20','2023-05-15', '2023-02-17', '2023-03-20','2023-05-15', '2023-01-17', '2023-05-20']),\n",
    "    'order_amount': [250.00, 450.50, 300.75, 150.00, 500.00, 700.25, 200.00, 400.00, 350.00, 600.00, 800.00, 900.00, 1000.00, 1100.00, 1200.00],\n",
    "    'cookie_type': ['Chocolate Chip', 'Gingerbread', 'Lemon','Peanut Butter', 'Snickerdoodle', 'Chocolate Chip','Lemon', 'Gingerbread', 'Gingerbread','Lemon', 'Gingerbread', 'Peanut Butter','Peanut Butter', 'Chocolate Chip', 'Gingerbread'],})\n",
    "shipment = pd.DataFrame({\n",
    "    'shipment_id': [201, 202, 203,204,205,206,207,208,209,210,211,212,213,214,215],\n",
    "    'order_id': [101, 102, 103,104,105,106,107,108,109,110,111,112,113,114,115],\n",
    "    'shipment_date': pd.to_datetime(['2023-01-16', '2023-01-18', '2023-01-21','2023-02-16', '2023-02-18', '2023-02-21','2023-03-16', '2023-03-18', '2023-03-21','2023-04-16', '2023-04-18', '2023-04-21','2023-05-16', '2023-05-18', '2023-05-21']),\n",
    "    'delivery_date': pd.to_datetime(['2023-01-20', '2023-01-22', '2023-01-25','2023-02-20', '2023-02-22', '2023-02-25','2023-03-20', '2023-03-22', '2023-03-25','2023-04-20', '2023-04-22', '2023-04-25','2023-05-20', '2023-05-22', '2023-05-25']),\n",
    "    'shipping_method': ['Standard', 'Express', 'Standard','Express', 'Standard', 'Express','Standard', 'Express', 'Standard','Express', 'Standard', 'Express','Standard', 'Express', 'Standard'],\n",
    "})"
   ]
  },
  {
   "cell_type": "code",
   "execution_count": 48,
   "id": "334135d8",
   "metadata": {},
   "outputs": [
    {
     "name": "stdout",
     "output_type": "stream",
     "text": [
      "Tables created\n"
     ]
    }
   ],
   "source": [
    "#Step 3: load to sqldb\n",
    "conn= create_connection()\n",
    "customers.to_sql('customers', conn, if_exists= 'replace', index= False)\n",
    "orders.to_sql('orders', conn, if_exists= 'replace')\n",
    "shipment.to_sql('shipment', conn, if_exists= 'replace', index= False)\n",
    "print('Tables created')"
   ]
  },
  {
   "cell_type": "code",
   "execution_count": 62,
   "id": "bf806bd1",
   "metadata": {},
   "outputs": [
    {
     "name": "stdout",
     "output_type": "stream",
     "text": [
      "Total sales per month:\n"
     ]
    },
    {
     "data": {
      "text/html": [
       "<div>\n",
       "<style scoped>\n",
       "    .dataframe tbody tr th:only-of-type {\n",
       "        vertical-align: middle;\n",
       "    }\n",
       "\n",
       "    .dataframe tbody tr th {\n",
       "        vertical-align: top;\n",
       "    }\n",
       "\n",
       "    .dataframe thead th {\n",
       "        text-align: right;\n",
       "    }\n",
       "</style>\n",
       "<table border=\"1\" class=\"dataframe\">\n",
       "  <thead>\n",
       "    <tr style=\"text-align: right;\">\n",
       "      <th></th>\n",
       "      <th>order_by_month</th>\n",
       "      <th>total_sales</th>\n",
       "    </tr>\n",
       "  </thead>\n",
       "  <tbody>\n",
       "    <tr>\n",
       "      <th>0</th>\n",
       "      <td>2023-01</td>\n",
       "      <td>1600.00</td>\n",
       "    </tr>\n",
       "    <tr>\n",
       "      <th>1</th>\n",
       "      <td>2023-02</td>\n",
       "      <td>1950.75</td>\n",
       "    </tr>\n",
       "    <tr>\n",
       "      <th>2</th>\n",
       "      <td>2023-03</td>\n",
       "      <td>1800.75</td>\n",
       "    </tr>\n",
       "    <tr>\n",
       "      <th>3</th>\n",
       "      <td>2023-04</td>\n",
       "      <td>500.00</td>\n",
       "    </tr>\n",
       "    <tr>\n",
       "      <th>4</th>\n",
       "      <td>2023-05</td>\n",
       "      <td>3050.00</td>\n",
       "    </tr>\n",
       "  </tbody>\n",
       "</table>\n",
       "</div>"
      ],
      "text/plain": [
       "  order_by_month  total_sales\n",
       "0        2023-01      1600.00\n",
       "1        2023-02      1950.75\n",
       "2        2023-03      1800.75\n",
       "3        2023-04       500.00\n",
       "4        2023-05      3050.00"
      ]
     },
     "metadata": {},
     "output_type": "display_data"
    },
    {
     "name": "stdout",
     "output_type": "stream",
     "text": [
      "Most shipped to states:\n"
     ]
    },
    {
     "data": {
      "text/html": [
       "<div>\n",
       "<style scoped>\n",
       "    .dataframe tbody tr th:only-of-type {\n",
       "        vertical-align: middle;\n",
       "    }\n",
       "\n",
       "    .dataframe tbody tr th {\n",
       "        vertical-align: top;\n",
       "    }\n",
       "\n",
       "    .dataframe thead th {\n",
       "        text-align: right;\n",
       "    }\n",
       "</style>\n",
       "<table border=\"1\" class=\"dataframe\">\n",
       "  <thead>\n",
       "    <tr style=\"text-align: right;\">\n",
       "      <th></th>\n",
       "      <th>state</th>\n",
       "      <th>total_shipments</th>\n",
       "    </tr>\n",
       "  </thead>\n",
       "  <tbody>\n",
       "    <tr>\n",
       "      <th>0</th>\n",
       "      <td>AZ</td>\n",
       "      <td>4</td>\n",
       "    </tr>\n",
       "    <tr>\n",
       "      <th>1</th>\n",
       "      <td>TX</td>\n",
       "      <td>3</td>\n",
       "    </tr>\n",
       "    <tr>\n",
       "      <th>2</th>\n",
       "      <td>NY</td>\n",
       "      <td>3</td>\n",
       "    </tr>\n",
       "    <tr>\n",
       "      <th>3</th>\n",
       "      <td>CA</td>\n",
       "      <td>3</td>\n",
       "    </tr>\n",
       "    <tr>\n",
       "      <th>4</th>\n",
       "      <td>IL</td>\n",
       "      <td>2</td>\n",
       "    </tr>\n",
       "  </tbody>\n",
       "</table>\n",
       "</div>"
      ],
      "text/plain": [
       "  state  total_shipments\n",
       "0    AZ                4\n",
       "1    TX                3\n",
       "2    NY                3\n",
       "3    CA                3\n",
       "4    IL                2"
      ]
     },
     "metadata": {},
     "output_type": "display_data"
    },
    {
     "name": "stdout",
     "output_type": "stream",
     "text": [
      "Buying months for Alice and Bob:\n"
     ]
    },
    {
     "data": {
      "text/html": [
       "<div>\n",
       "<style scoped>\n",
       "    .dataframe tbody tr th:only-of-type {\n",
       "        vertical-align: middle;\n",
       "    }\n",
       "\n",
       "    .dataframe tbody tr th {\n",
       "        vertical-align: top;\n",
       "    }\n",
       "\n",
       "    .dataframe thead th {\n",
       "        text-align: right;\n",
       "    }\n",
       "</style>\n",
       "<table border=\"1\" class=\"dataframe\">\n",
       "  <thead>\n",
       "    <tr style=\"text-align: right;\">\n",
       "      <th></th>\n",
       "      <th>customer_name</th>\n",
       "      <th>order_month</th>\n",
       "      <th>frequency</th>\n",
       "    </tr>\n",
       "  </thead>\n",
       "  <tbody>\n",
       "    <tr>\n",
       "      <th>0</th>\n",
       "      <td>Alice</td>\n",
       "      <td>2023-05</td>\n",
       "      <td>2</td>\n",
       "    </tr>\n",
       "    <tr>\n",
       "      <th>1</th>\n",
       "      <td>Bob</td>\n",
       "      <td>2023-03</td>\n",
       "      <td>1</td>\n",
       "    </tr>\n",
       "    <tr>\n",
       "      <th>2</th>\n",
       "      <td>Alice</td>\n",
       "      <td>2023-04</td>\n",
       "      <td>1</td>\n",
       "    </tr>\n",
       "    <tr>\n",
       "      <th>3</th>\n",
       "      <td>Bob</td>\n",
       "      <td>2023-04</td>\n",
       "      <td>1</td>\n",
       "    </tr>\n",
       "    <tr>\n",
       "      <th>4</th>\n",
       "      <td>Bob</td>\n",
       "      <td>2023-05</td>\n",
       "      <td>1</td>\n",
       "    </tr>\n",
       "  </tbody>\n",
       "</table>\n",
       "</div>"
      ],
      "text/plain": [
       "  customer_name order_month  frequency\n",
       "0         Alice     2023-05          2\n",
       "1           Bob     2023-03          1\n",
       "2         Alice     2023-04          1\n",
       "3           Bob     2023-04          1\n",
       "4           Bob     2023-05          1"
      ]
     },
     "metadata": {},
     "output_type": "display_data"
    }
   ],
   "source": [
    "#step 4: OLAB operations\n",
    "#sql sctipts\n",
    "#script for total sales per month\n",
    "query_total_sales_per_month = \"\"\"\n",
    "SELECT strftime('%Y-%m', order_date) as order_by_month, SUM(order_amount) AS total_sales\n",
    "FROM orders\n",
    "GROUP BY order_by_month\n",
    "ORDER BY order_by_month;\n",
    "\"\"\"\n",
    "query_total_sales_per_month_df= pd.read_sql_query(query_total_sales_per_month, conn)\n",
    "print(\"Total sales per month:\")\n",
    "display(query_total_sales_per_month_df)\n",
    "\n",
    "#script for most shipped to states\n",
    "query_most_shipped_to_states = \"\"\"\n",
    "Select state, COUNT(order_id) AS total_shipments\n",
    "FROM customers\n",
    "INNER JOIN orders ON customers.customer_id = orders.customer_id\n",
    "GROUP BY state\n",
    "ORDER BY total_shipments DESC\n",
    "\"\"\"\n",
    "query_most_shipped_to_states_df= pd.read_sql_query(query_most_shipped_to_states, conn)\n",
    "print(\"Most shipped to states:\")\n",
    "display(query_most_shipped_to_states_df)\n",
    "\n",
    "#script for months orders were placed by Alice and Bob\n",
    "buying_months_alice_bob = \"\"\"\n",
    "SELECT customer_name, strftime('%Y-%m', order_date) AS order_month, COUNT(order_id) AS frequency\n",
    "FROM customers\n",
    "LEFT JOIN orders ON customers.customer_id=orders.customer_id\n",
    "WHERE customer_name = 'Alice' OR customer_name= 'Bob'\n",
    "GROUP BY Order_month, customer_name\n",
    "ORDER BY frequency DESC\n",
    "\"\"\"\n",
    "buying_months_alice_bob_df = pd.read_sql_query(buying_months_alice_bob, conn)\n",
    "print(\"Buying months for Alice and Bob:\")\n",
    "display(buying_months_alice_bob_df)"
   ]
  },
  {
   "cell_type": "code",
   "execution_count": null,
   "id": "2de3d09b",
   "metadata": {},
   "outputs": [],
   "source": []
  },
  {
   "cell_type": "code",
   "execution_count": 63,
   "id": "274e010a",
   "metadata": {},
   "outputs": [
    {
     "name": "stdout",
     "output_type": "stream",
     "text": [
      "Pivot Table - Total Sales Per Month by Cookie Type:\n"
     ]
    },
    {
     "data": {
      "text/html": [
       "<div>\n",
       "<style scoped>\n",
       "    .dataframe tbody tr th:only-of-type {\n",
       "        vertical-align: middle;\n",
       "    }\n",
       "\n",
       "    .dataframe tbody tr th {\n",
       "        vertical-align: top;\n",
       "    }\n",
       "\n",
       "    .dataframe thead th {\n",
       "        text-align: right;\n",
       "    }\n",
       "</style>\n",
       "<table border=\"1\" class=\"dataframe\">\n",
       "  <thead>\n",
       "    <tr style=\"text-align: right;\">\n",
       "      <th>cookie_type</th>\n",
       "      <th>Chocolate Chip</th>\n",
       "      <th>Gingerbread</th>\n",
       "      <th>Lemon</th>\n",
       "      <th>Peanut Butter</th>\n",
       "      <th>Snickerdoodle</th>\n",
       "    </tr>\n",
       "    <tr>\n",
       "      <th>order_date</th>\n",
       "      <th></th>\n",
       "      <th></th>\n",
       "      <th></th>\n",
       "      <th></th>\n",
       "      <th></th>\n",
       "    </tr>\n",
       "  </thead>\n",
       "  <tbody>\n",
       "    <tr>\n",
       "      <th>2023-01</th>\n",
       "      <td>1.0</td>\n",
       "      <td>NaN</td>\n",
       "      <td>NaN</td>\n",
       "      <td>NaN</td>\n",
       "      <td>1.0</td>\n",
       "    </tr>\n",
       "    <tr>\n",
       "      <th>2023-02</th>\n",
       "      <td>1.0</td>\n",
       "      <td>2.0</td>\n",
       "      <td>NaN</td>\n",
       "      <td>NaN</td>\n",
       "      <td>NaN</td>\n",
       "    </tr>\n",
       "    <tr>\n",
       "      <th>2023-03</th>\n",
       "      <td>NaN</td>\n",
       "      <td>1.0</td>\n",
       "      <td>2.0</td>\n",
       "      <td>1.0</td>\n",
       "      <td>NaN</td>\n",
       "    </tr>\n",
       "    <tr>\n",
       "      <th>2023-04</th>\n",
       "      <td>NaN</td>\n",
       "      <td>1.0</td>\n",
       "      <td>NaN</td>\n",
       "      <td>1.0</td>\n",
       "      <td>NaN</td>\n",
       "    </tr>\n",
       "    <tr>\n",
       "      <th>2023-05</th>\n",
       "      <td>1.0</td>\n",
       "      <td>1.0</td>\n",
       "      <td>1.0</td>\n",
       "      <td>1.0</td>\n",
       "      <td>NaN</td>\n",
       "    </tr>\n",
       "  </tbody>\n",
       "</table>\n",
       "</div>"
      ],
      "text/plain": [
       "cookie_type  Chocolate Chip  Gingerbread  Lemon  Peanut Butter  Snickerdoodle\n",
       "order_date                                                                   \n",
       "2023-01                 1.0          NaN    NaN            NaN            1.0\n",
       "2023-02                 1.0          2.0    NaN            NaN            NaN\n",
       "2023-03                 NaN          1.0    2.0            1.0            NaN\n",
       "2023-04                 NaN          1.0    NaN            1.0            NaN\n",
       "2023-05                 1.0          1.0    1.0            1.0            NaN"
      ]
     },
     "metadata": {},
     "output_type": "display_data"
    }
   ],
   "source": [
    "#Step 6:Pivot tables\n",
    "#total sales per month\n",
    "pivot_total_sales_per_month=pd.pivot_table( data=orders, index= orders['order_date'].dt.to_period('M'), columns= 'cookie_type', values='order_id', aggfunc='count')\n",
    "print(\"Pivot Table - Total Sales Per Month by Cookie Type:\")\n",
    "display(pivot_total_sales_per_month)"
   ]
  },
  {
   "cell_type": "code",
   "execution_count": 69,
   "id": "851d5d0d",
   "metadata": {},
   "outputs": [
    {
     "name": "stdout",
     "output_type": "stream",
     "text": [
      "HOLAP - Monthly Orders by State:\n"
     ]
    },
    {
     "data": {
      "text/html": [
       "<div>\n",
       "<style scoped>\n",
       "    .dataframe tbody tr th:only-of-type {\n",
       "        vertical-align: middle;\n",
       "    }\n",
       "\n",
       "    .dataframe tbody tr th {\n",
       "        vertical-align: top;\n",
       "    }\n",
       "\n",
       "    .dataframe thead th {\n",
       "        text-align: right;\n",
       "    }\n",
       "</style>\n",
       "<table border=\"1\" class=\"dataframe\">\n",
       "  <thead>\n",
       "    <tr style=\"text-align: right;\">\n",
       "      <th></th>\n",
       "      <th>monthly_orders</th>\n",
       "      <th>state</th>\n",
       "    </tr>\n",
       "  </thead>\n",
       "  <tbody>\n",
       "    <tr>\n",
       "      <th>0</th>\n",
       "      <td>2</td>\n",
       "      <td>IL</td>\n",
       "    </tr>\n",
       "    <tr>\n",
       "      <th>1</th>\n",
       "      <td>3</td>\n",
       "      <td>CA</td>\n",
       "    </tr>\n",
       "    <tr>\n",
       "      <th>2</th>\n",
       "      <td>3</td>\n",
       "      <td>NY</td>\n",
       "    </tr>\n",
       "    <tr>\n",
       "      <th>3</th>\n",
       "      <td>3</td>\n",
       "      <td>TX</td>\n",
       "    </tr>\n",
       "    <tr>\n",
       "      <th>4</th>\n",
       "      <td>4</td>\n",
       "      <td>AZ</td>\n",
       "    </tr>\n",
       "  </tbody>\n",
       "</table>\n",
       "</div>"
      ],
      "text/plain": [
       "   monthly_orders state\n",
       "0               2    IL\n",
       "1               3    CA\n",
       "2               3    NY\n",
       "3               3    TX\n",
       "4               4    AZ"
      ]
     },
     "metadata": {},
     "output_type": "display_data"
    }
   ],
   "source": [
    "#Step 7:HOLAP operations\n",
    "#get data to store in memory\n",
    "shipment_df= pd.read_sql_query(\"SELECT COUNT(order_id) as monthly_orders, state FROM orders INNER JOIN customers ON orders.customer_id= customers.customer_id GROUP BY state ORDER BY monthly_orders\", conn)\n",
    "print(\"HOLAP - Monthly Orders by State:\")\n",
    "display(shipment_df)\n"
   ]
  },
  {
   "cell_type": "code",
   "execution_count": null,
   "id": "85ba5a50",
   "metadata": {},
   "outputs": [
    {
     "name": "stdout",
     "output_type": "stream",
     "text": [
      "shipments in january\n"
     ]
    },
    {
     "data": {
      "text/html": [
       "<div>\n",
       "<style scoped>\n",
       "    .dataframe tbody tr th:only-of-type {\n",
       "        vertical-align: middle;\n",
       "    }\n",
       "\n",
       "    .dataframe tbody tr th {\n",
       "        vertical-align: top;\n",
       "    }\n",
       "\n",
       "    .dataframe thead th {\n",
       "        text-align: right;\n",
       "    }\n",
       "</style>\n",
       "<table border=\"1\" class=\"dataframe\">\n",
       "  <thead>\n",
       "    <tr style=\"text-align: right;\">\n",
       "      <th></th>\n",
       "      <th>jan_shipments</th>\n",
       "    </tr>\n",
       "  </thead>\n",
       "  <tbody>\n",
       "    <tr>\n",
       "      <th>0</th>\n",
       "      <td>3</td>\n",
       "    </tr>\n",
       "  </tbody>\n",
       "</table>\n",
       "</div>"
      ],
      "text/plain": [
       "   jan_shipments\n",
       "0              3"
      ]
     },
     "metadata": {},
     "output_type": "display_data"
    },
    {
     "name": "stdout",
     "output_type": "stream",
     "text": [
      "shipments in january to CA\n"
     ]
    },
    {
     "data": {
      "text/html": [
       "<div>\n",
       "<style scoped>\n",
       "    .dataframe tbody tr th:only-of-type {\n",
       "        vertical-align: middle;\n",
       "    }\n",
       "\n",
       "    .dataframe tbody tr th {\n",
       "        vertical-align: top;\n",
       "    }\n",
       "\n",
       "    .dataframe thead th {\n",
       "        text-align: right;\n",
       "    }\n",
       "</style>\n",
       "<table border=\"1\" class=\"dataframe\">\n",
       "  <thead>\n",
       "    <tr style=\"text-align: right;\">\n",
       "      <th></th>\n",
       "      <th>jan_shipments_CA</th>\n",
       "    </tr>\n",
       "  </thead>\n",
       "  <tbody>\n",
       "    <tr>\n",
       "      <th>0</th>\n",
       "      <td>0</td>\n",
       "    </tr>\n",
       "  </tbody>\n",
       "</table>\n",
       "</div>"
      ],
      "text/plain": [
       "   jan_shipments_CA\n",
       "0                 0"
      ]
     },
     "metadata": {},
     "output_type": "display_data"
    },
    {
     "name": "stdout",
     "output_type": "stream",
     "text": [
      "Rollup - Total Sales by State:\n"
     ]
    },
    {
     "data": {
      "text/html": [
       "<div>\n",
       "<style scoped>\n",
       "    .dataframe tbody tr th:only-of-type {\n",
       "        vertical-align: middle;\n",
       "    }\n",
       "\n",
       "    .dataframe tbody tr th {\n",
       "        vertical-align: top;\n",
       "    }\n",
       "\n",
       "    .dataframe thead th {\n",
       "        text-align: right;\n",
       "    }\n",
       "</style>\n",
       "<table border=\"1\" class=\"dataframe\">\n",
       "  <thead>\n",
       "    <tr style=\"text-align: right;\">\n",
       "      <th></th>\n",
       "      <th>state</th>\n",
       "      <th>total_sales</th>\n",
       "    </tr>\n",
       "  </thead>\n",
       "  <tbody>\n",
       "    <tr>\n",
       "      <th>0</th>\n",
       "      <td>AZ</td>\n",
       "      <td>3050.75</td>\n",
       "    </tr>\n",
       "    <tr>\n",
       "      <th>1</th>\n",
       "      <td>TX</td>\n",
       "      <td>1800.00</td>\n",
       "    </tr>\n",
       "    <tr>\n",
       "      <th>2</th>\n",
       "      <td>NY</td>\n",
       "      <td>1600.00</td>\n",
       "    </tr>\n",
       "    <tr>\n",
       "      <th>3</th>\n",
       "      <td>CA</td>\n",
       "      <td>1550.00</td>\n",
       "    </tr>\n",
       "    <tr>\n",
       "      <th>4</th>\n",
       "      <td>IL</td>\n",
       "      <td>900.75</td>\n",
       "    </tr>\n",
       "  </tbody>\n",
       "</table>\n",
       "</div>"
      ],
      "text/plain": [
       "  state  total_sales\n",
       "0    AZ      3050.75\n",
       "1    TX      1800.00\n",
       "2    NY      1600.00\n",
       "3    CA      1550.00\n",
       "4    IL       900.75"
      ]
     },
     "metadata": {},
     "output_type": "display_data"
    },
    {
     "name": "stdout",
     "output_type": "stream",
     "text": [
      "Drilldown - Total Sales by State and City:\n"
     ]
    },
    {
     "data": {
      "text/html": [
       "<div>\n",
       "<style scoped>\n",
       "    .dataframe tbody tr th:only-of-type {\n",
       "        vertical-align: middle;\n",
       "    }\n",
       "\n",
       "    .dataframe tbody tr th {\n",
       "        vertical-align: top;\n",
       "    }\n",
       "\n",
       "    .dataframe thead th {\n",
       "        text-align: right;\n",
       "    }\n",
       "</style>\n",
       "<table border=\"1\" class=\"dataframe\">\n",
       "  <thead>\n",
       "    <tr style=\"text-align: right;\">\n",
       "      <th></th>\n",
       "      <th>state</th>\n",
       "      <th>city</th>\n",
       "      <th>total_sales</th>\n",
       "    </tr>\n",
       "  </thead>\n",
       "  <tbody>\n",
       "    <tr>\n",
       "      <th>0</th>\n",
       "      <td>AZ</td>\n",
       "      <td>Phoenix</td>\n",
       "      <td>3050.75</td>\n",
       "    </tr>\n",
       "    <tr>\n",
       "      <th>1</th>\n",
       "      <td>CA</td>\n",
       "      <td>Los Angeles</td>\n",
       "      <td>1550.00</td>\n",
       "    </tr>\n",
       "    <tr>\n",
       "      <th>2</th>\n",
       "      <td>IL</td>\n",
       "      <td>Chicago</td>\n",
       "      <td>900.75</td>\n",
       "    </tr>\n",
       "    <tr>\n",
       "      <th>3</th>\n",
       "      <td>NY</td>\n",
       "      <td>New York</td>\n",
       "      <td>1600.00</td>\n",
       "    </tr>\n",
       "    <tr>\n",
       "      <th>4</th>\n",
       "      <td>TX</td>\n",
       "      <td>Houston</td>\n",
       "      <td>1800.00</td>\n",
       "    </tr>\n",
       "  </tbody>\n",
       "</table>\n",
       "</div>"
      ],
      "text/plain": [
       "  state         city  total_sales\n",
       "0    AZ      Phoenix      3050.75\n",
       "1    CA  Los Angeles      1550.00\n",
       "2    IL      Chicago       900.75\n",
       "3    NY     New York      1600.00\n",
       "4    TX      Houston      1800.00"
      ]
     },
     "metadata": {},
     "output_type": "display_data"
    }
   ],
   "source": [
    "#step 8: OLAP operations\n",
    "# Slicing - filtering to a sinngle dimention\n",
    "# Total shipments in the month of January\n",
    "shipments_df= pd.read_sql_query( \"SELECT COUNT(orders.order_id) as jan_shipments \" \n",
    "                                \"FROM orders INNER JOIN shipment ON orders.order_id= shipment.order_id \"  \n",
    "                                \"WHERE strftime('%Y-%m',shipment_date)= '2023-01'\", conn)\n",
    "print(\"shipments in january\")\n",
    "display(shipments_df)\n",
    "\n",
    "#dicing - filtering to multiple dimentions\n",
    "# Total shipments in the month of January to California (CA)\n",
    "shipments2_df= pd.read_sql_query(\"SELECT  COUNT(orders.order_id) as jan_shipments_CA \" \n",
    "                                 \"FROM orders INNER JOIN shipment ON orders.order_id= shipment.order_id \" \n",
    "                                 \"INNER JOIN customers ON orders.customer_id= customers.customer_id \"  \n",
    "                                 \"WHERE strftime('%Y-%m',shipment_date)= '2023-01' AND state ='CA'\", conn)\n",
    "print(\"shipments in january to CA\")\n",
    "display(shipments2_df)\n",
    "\n",
    "#rollup - aggregated data (seeing bigger picture)\n",
    "sales_df=pd.read_sql_query(\"SELECT state, SUM(order_amount) as total_sales FROM orders INNER JOIN customers ON orders.customer_id= customers.customer_id GROUP BY state ORDER BY total_sales DESC\", conn)\n",
    "print(\"Rollup - Total Sales by State:\")\n",
    "display(sales_df)\n",
    "\n",
    "#drilldown - detailed data (descending to more detailed level)\n",
    "detailed_sales_df=pd.read_sql_query(\"SELECT state, city, SUM(order_amount) as total_sales FROM orders INNER JOIN customers ON orders.customer_id= customers.customer_id GROUP BY state, city ORDER BY state, city\", conn)\n",
    "print(\"Drilldown - Total Sales by State and City:\")\n",
    "display(detailed_sales_df)"
   ]
  },
  {
   "cell_type": "code",
   "execution_count": 99,
   "id": "66a75c5c",
   "metadata": {},
   "outputs": [
    {
     "name": "stderr",
     "output_type": "stream",
     "text": [
      "C:\\Users\\HP\\AppData\\Local\\Temp\\ipykernel_14732\\381246882.py:4: FutureWarning: \n",
      "\n",
      "Passing `palette` without assigning `hue` is deprecated and will be removed in v0.14.0. Assign the `x` variable to `hue` and set `legend=False` for the same effect.\n",
      "\n",
      "  sns.barplot(data=sales_df, x='state', y='total_sales', palette='viridis')\n"
     ]
    },
    {
     "data": {
      "text/plain": [
       "Text(0.5, 1.0, 'cookie sales per month')"
      ]
     },
     "execution_count": 99,
     "metadata": {},
     "output_type": "execute_result"
    },
    {
     "data": {
      "image/png": "[encoded data removed]",
      "text/plain": [
       "<Figure size 1000x600 with 1 Axes>"
      ]
     },
     "metadata": {},
     "output_type": "display_data"
    },
    {
     "data": {
      "image/png": "[encoded data removed]",
      "text/plain": [
       "<Figure size 1000x600 with 2 Axes>"
      ]
     },
     "metadata": {},
     "output_type": "display_data"
    }
   ],
   "source": [
    "#step 5:visualisation\n",
    "#revenue per state\n",
    "plt.figure(figsize=(10,6))\n",
    "sns.barplot(data=sales_df, x='state', y='total_sales', palette='viridis')\n",
    "plt.title('Total Sales by State')\n",
    "#heatmap of sales per month\n",
    "plt.figure(figsize=(10,6))\n",
    "sns.heatmap(pivot_total_sales_per_month, cmap='viridis', annot=True)\n",
    "plt.title('cookie sales per month')"
   ]
  },
  {
   "cell_type": "code",
   "execution_count": null,
   "id": "0b25c3ff",
   "metadata": {},
   "outputs": [],
   "source": []
  }
 ],
 "metadata": {
  "kernelspec": {
   "display_name": "Python 3",
   "language": "python",
   "name": "python3"
  },
  "language_info": {
   "codemirror_mode": {
    "name": "ipython",
    "version": 3
   },
   "file_extension": ".py",
   "mimetype": "text/x-python",
   "name": "python",
   "nbconvert_exporter": "python",
   "pygments_lexer": "ipython3",
   "version": "3.13.7"
  }
 },
 "nbformat": 4,
 "nbformat_minor": 5
}
